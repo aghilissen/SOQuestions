{
 "cells": [
  {
   "cell_type": "markdown",
   "metadata": {},
   "source": [
    "## Strategies\n",
    "### Word focused\n",
    "If the vocabulary is what you are looking at, the next step is to remove the punctuation and the stopwords. Again, depending on what you are trying to achieve, either you want a list of words, no matter their origin (not really helpful in our context) so you can do something like:\n",
    "```\n",
    "for text in df['Body']:\n",
    "    tokens = word_tokenize(text)\n",
    "    # converts to lower case\n",
    "    tokens = [tok.lower() for tok in tokens]\n",
    "    # removes the stopwords\n",
    "    words = [word for word in tokens if word not in stop_words]\n",
    "```\n",
    "\n",
    "With this, you have a list of words used throughout the document. You can create then start the vocabulary analysis by coding a counter or using `FreqDist` from the `nltk` library for example.\n",
    "\n",
    "However if you'd like to keep those words in the documents:"
   ]
  },
  {
   "cell_type": "code",
   "execution_count": null,
   "metadata": {},
   "outputs": [],
   "source": [
    "from nltk.corpus import stopwords\n",
    "from nltk.tokenize import word_tokenize\n",
    "import string\n",
    "\n",
    "stop_words = list(string.punctuation)\n",
    "stop_words += stopwords.words('english')"
   ]
  },
  {
   "cell_type": "code",
   "execution_count": 1,
   "metadata": {},
   "outputs": [],
   "source": [
    "def toklowstop(text):\n",
    "    tokens = word_tokenize(text)\n",
    "    # converts to lower case\n",
    "    tokens = [tok.lower() for tok in tokens]\n",
    "    # removes the stopwords\n",
    "    words = [word for word in tokens if word not in stop_words]\n",
    "    return words"
   ]
  },
  {
   "cell_type": "code",
   "execution_count": null,
   "metadata": {},
   "outputs": [],
   "source": [
    "df['Body'].apply(lambda x: toklowstop(x))"
   ]
  },
  {
   "cell_type": "markdown",
   "metadata": {},
   "source": [
    "## Wordcloud\n",
    "## Lemmatisation\n",
    "## Stemming"
   ]
  }
 ],
 "metadata": {
  "kernelspec": {
   "display_name": "Python 3.8.3 64-bit",
   "language": "python",
   "name": "python38364bit6d9251475e3c4a3a82c639eb6cfa00a6"
  },
  "language_info": {
   "codemirror_mode": {
    "name": "ipython",
    "version": 3
   },
   "file_extension": ".py",
   "mimetype": "text/x-python",
   "name": "python",
   "nbconvert_exporter": "python",
   "pygments_lexer": "ipython3",
   "version": "3.8.5"
  }
 },
 "nbformat": 4,
 "nbformat_minor": 4
}
