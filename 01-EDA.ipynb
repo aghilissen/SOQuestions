{
 "cells": [
  {
   "cell_type": "markdown",
   "metadata": {},
   "source": [
    "![Explorer](./img/Explorer.png)\n",
    "# Text Data Exploration\n",
    "## Introduction\n",
    "For this article, I wanted to cover a few key concepts unique to handling text data.\n",
    "\n",
    "I say unique to NLP because unlike the pre-processing of visual or audio data, the pre-processing of text data requires a few more steps. Even if the data is valid (by valid, I mean text, characters), it might not be in the language you understand (i.e. English), it might not be in Latin alphabet or, it might not be in the right encoding format (in `UTF-8` for example). If you are dealing with web scrapped data, most of the time you'll encounter `<html>` or other formatting tags that will need to be dealt with as they are not part of the content *per se*. Not to say this information is not relevant, it can reveal useful patterns, but if treated like any other word, it will most likely generate noise. So it is important to pick those up early enough.\n",
    "\n",
    "Unfortunately, one of the solutions for this kind of data processing is Regular Expressions or `regex`... I will try and avoid this as much as possible as it hurts my brain but, I have to admit there are a few, easy to remember, patterns that will help greatly during the cleaning process and also during the tokenization process.\n",
    "\n",
    "## Definitions\n",
    "Before we start, let's talk about the lingo:\n",
    "- Corpus - It is a collection of (similar) documents.\n",
    "- Document - It is a collection of sentences that have the same context. It can be a review, a paragraph, a log file, etc.\n",
    "- NLP - Natural Language Processing. It is an area of AI which deals with interpreting human language. In our context, it refers to the analysis of text data by a computer.\n",
    "- NLTK - Natural Language Tool Kit. It is a very powerful library for NLP.\n",
    "\n",
    "## The dataset\n",
    "To support this article, I am going to use a dataset from Kaggle: [60k Stack Overflow Questions with Quality Rating](https://www.kaggle.com/imoore/60k-stack-overflow-questions-with-quality-rate). Ultimately I'll probably try to classify them but, as I found this dataset today, it is exploration time! ![Put your hat on!](./img/Indi.jpg)\n",
    "\n",
    "The dataset covers 60,000 questions asked on [StackOveflow](https://stackoverflow.com/) between 2016 and 2020. To link this back to the lingo, this is our corpus, and a specific question is going to be called a document.\n",
    "\n",
    "Looking at the [`Tasks`](https://www.kaggle.com/imoore/60k-stack-overflow-questions-with-quality-rate/tasks?taskId=1889) tab, we are challenged to classify SO questions based on the text quality, with a hint about the last column being added to ease a supervised classification.\n",
    "### Structure\n",
    "It comes as a file named `data.csv` containing 60,000 rows and 5 columns (+ 1 `Id` column which will be our index). When displayed, it looks like this:"
   ]
  },
  {
   "cell_type": "code",
   "execution_count": 1,
   "metadata": {},
   "outputs": [
    {
     "data": {
      "text/html": [
       "<div>\n",
       "<style scoped>\n",
       "    .dataframe tbody tr th:only-of-type {\n",
       "        vertical-align: middle;\n",
       "    }\n",
       "\n",
       "    .dataframe tbody tr th {\n",
       "        vertical-align: top;\n",
       "    }\n",
       "\n",
       "    .dataframe thead th {\n",
       "        text-align: right;\n",
       "    }\n",
       "</style>\n",
       "<table border=\"1\" class=\"dataframe\">\n",
       "  <thead>\n",
       "    <tr style=\"text-align: right;\">\n",
       "      <th></th>\n",
       "      <th>Title</th>\n",
       "      <th>Body</th>\n",
       "      <th>Tags</th>\n",
       "      <th>CreationDate</th>\n",
       "      <th>Y</th>\n",
       "    </tr>\n",
       "    <tr>\n",
       "      <th>Id</th>\n",
       "      <th></th>\n",
       "      <th></th>\n",
       "      <th></th>\n",
       "      <th></th>\n",
       "      <th></th>\n",
       "    </tr>\n",
       "  </thead>\n",
       "  <tbody>\n",
       "    <tr>\n",
       "      <th>34552656</th>\n",
       "      <td>Java: Repeat Task Every Random Seconds</td>\n",
       "      <td>&lt;p&gt;I'm already familiar with repeating tasks e...</td>\n",
       "      <td>&lt;java&gt;&lt;repeat&gt;</td>\n",
       "      <td>2016-01-01 00:21:59</td>\n",
       "      <td>LQ_CLOSE</td>\n",
       "    </tr>\n",
       "    <tr>\n",
       "      <th>34552974</th>\n",
       "      <td>How to get all the child records from differen...</td>\n",
       "      <td>I am having 4 different tables like \\r\\nselect...</td>\n",
       "      <td>&lt;sql&gt;&lt;sql-server&gt;</td>\n",
       "      <td>2016-01-01 01:44:52</td>\n",
       "      <td>LQ_EDIT</td>\n",
       "    </tr>\n",
       "    <tr>\n",
       "      <th>34553034</th>\n",
       "      <td>Why are Java Optionals immutable?</td>\n",
       "      <td>&lt;p&gt;I'd like to understand why Java 8 Optionals...</td>\n",
       "      <td>&lt;java&gt;&lt;optional&gt;</td>\n",
       "      <td>2016-01-01 02:03:20</td>\n",
       "      <td>HQ</td>\n",
       "    </tr>\n",
       "    <tr>\n",
       "      <th>34553174</th>\n",
       "      <td>Text Overlay Image with Darkened Opacity React...</td>\n",
       "      <td>&lt;p&gt;I am attempting to overlay a title over an ...</td>\n",
       "      <td>&lt;javascript&gt;&lt;image&gt;&lt;overlay&gt;&lt;react-native&gt;&lt;opa...</td>\n",
       "      <td>2016-01-01 02:48:24</td>\n",
       "      <td>HQ</td>\n",
       "    </tr>\n",
       "    <tr>\n",
       "      <th>34553318</th>\n",
       "      <td>Why ternary operator in swift is so picky?</td>\n",
       "      <td>&lt;p&gt;The question is very simple, but I just cou...</td>\n",
       "      <td>&lt;swift&gt;&lt;operators&gt;&lt;whitespace&gt;&lt;ternary-operato...</td>\n",
       "      <td>2016-01-01 03:30:17</td>\n",
       "      <td>HQ</td>\n",
       "    </tr>\n",
       "    <tr>\n",
       "      <th>...</th>\n",
       "      <td>...</td>\n",
       "      <td>...</td>\n",
       "      <td>...</td>\n",
       "      <td>...</td>\n",
       "      <td>...</td>\n",
       "    </tr>\n",
       "    <tr>\n",
       "      <th>60467932</th>\n",
       "      <td>C++ The correct way to multiply an integer and...</td>\n",
       "      <td>&lt;p&gt;I try to multiply an integer by a double bu...</td>\n",
       "      <td>&lt;c++&gt;</td>\n",
       "      <td>2020-02-29 17:46:41</td>\n",
       "      <td>LQ_CLOSE</td>\n",
       "    </tr>\n",
       "    <tr>\n",
       "      <th>60468018</th>\n",
       "      <td>How can I make a c# application outside of vis...</td>\n",
       "      <td>&lt;p&gt;I'm very new to programming and I'm teachin...</td>\n",
       "      <td>&lt;c#&gt;&lt;visual-studio&gt;</td>\n",
       "      <td>2020-02-29 17:55:56</td>\n",
       "      <td>LQ_CLOSE</td>\n",
       "    </tr>\n",
       "    <tr>\n",
       "      <th>60468378</th>\n",
       "      <td>WHY DJANGO IS SHOWING ME THIS ERROR WHEN I TRY...</td>\n",
       "      <td>*URLS.PY*\\r\\n    //URLS.PY FILE\\r\\n    fro...</td>\n",
       "      <td>&lt;django&gt;&lt;django-views&gt;&lt;django-templates&gt;</td>\n",
       "      <td>2020-02-29 18:35:39</td>\n",
       "      <td>LQ_EDIT</td>\n",
       "    </tr>\n",
       "    <tr>\n",
       "      <th>60469392</th>\n",
       "      <td>PHP - getting the content of php page</td>\n",
       "      <td>&lt;p&gt;I have a controller inside which a server i...</td>\n",
       "      <td>&lt;javascript&gt;&lt;php&gt;&lt;html&gt;</td>\n",
       "      <td>2020-02-29 20:32:14</td>\n",
       "      <td>LQ_CLOSE</td>\n",
       "    </tr>\n",
       "    <tr>\n",
       "      <th>60470323</th>\n",
       "      <td>Why can't overloaded functions vary only by re...</td>\n",
       "      <td>&lt;p&gt;So i was recently helping someone out with ...</td>\n",
       "      <td>&lt;c++&gt;&lt;overloading&gt;&lt;return-type&gt;</td>\n",
       "      <td>2020-02-29 22:45:56</td>\n",
       "      <td>LQ_CLOSE</td>\n",
       "    </tr>\n",
       "  </tbody>\n",
       "</table>\n",
       "<p>60000 rows × 5 columns</p>\n",
       "</div>"
      ],
      "text/plain": [
       "                                                      Title  \\\n",
       "Id                                                            \n",
       "34552656             Java: Repeat Task Every Random Seconds   \n",
       "34552974  How to get all the child records from differen...   \n",
       "34553034                  Why are Java Optionals immutable?   \n",
       "34553174  Text Overlay Image with Darkened Opacity React...   \n",
       "34553318         Why ternary operator in swift is so picky?   \n",
       "...                                                     ...   \n",
       "60467932  C++ The correct way to multiply an integer and...   \n",
       "60468018  How can I make a c# application outside of vis...   \n",
       "60468378  WHY DJANGO IS SHOWING ME THIS ERROR WHEN I TRY...   \n",
       "60469392              PHP - getting the content of php page   \n",
       "60470323  Why can't overloaded functions vary only by re...   \n",
       "\n",
       "                                                       Body  \\\n",
       "Id                                                            \n",
       "34552656  <p>I'm already familiar with repeating tasks e...   \n",
       "34552974  I am having 4 different tables like \\r\\nselect...   \n",
       "34553034  <p>I'd like to understand why Java 8 Optionals...   \n",
       "34553174  <p>I am attempting to overlay a title over an ...   \n",
       "34553318  <p>The question is very simple, but I just cou...   \n",
       "...                                                     ...   \n",
       "60467932  <p>I try to multiply an integer by a double bu...   \n",
       "60468018  <p>I'm very new to programming and I'm teachin...   \n",
       "60468378      *URLS.PY*\\r\\n    //URLS.PY FILE\\r\\n    fro...   \n",
       "60469392  <p>I have a controller inside which a server i...   \n",
       "60470323  <p>So i was recently helping someone out with ...   \n",
       "\n",
       "                                                       Tags  \\\n",
       "Id                                                            \n",
       "34552656                                     <java><repeat>   \n",
       "34552974                                  <sql><sql-server>   \n",
       "34553034                                   <java><optional>   \n",
       "34553174  <javascript><image><overlay><react-native><opa...   \n",
       "34553318  <swift><operators><whitespace><ternary-operato...   \n",
       "...                                                     ...   \n",
       "60467932                                              <c++>   \n",
       "60468018                                <c#><visual-studio>   \n",
       "60468378           <django><django-views><django-templates>   \n",
       "60469392                            <javascript><php><html>   \n",
       "60470323                    <c++><overloading><return-type>   \n",
       "\n",
       "                 CreationDate         Y  \n",
       "Id                                       \n",
       "34552656  2016-01-01 00:21:59  LQ_CLOSE  \n",
       "34552974  2016-01-01 01:44:52   LQ_EDIT  \n",
       "34553034  2016-01-01 02:03:20        HQ  \n",
       "34553174  2016-01-01 02:48:24        HQ  \n",
       "34553318  2016-01-01 03:30:17        HQ  \n",
       "...                       ...       ...  \n",
       "60467932  2020-02-29 17:46:41  LQ_CLOSE  \n",
       "60468018  2020-02-29 17:55:56  LQ_CLOSE  \n",
       "60468378  2020-02-29 18:35:39   LQ_EDIT  \n",
       "60469392  2020-02-29 20:32:14  LQ_CLOSE  \n",
       "60470323  2020-02-29 22:45:56  LQ_CLOSE  \n",
       "\n",
       "[60000 rows x 5 columns]"
      ]
     },
     "execution_count": 1,
     "metadata": {},
     "output_type": "execute_result"
    }
   ],
   "source": [
    "import pandas as pd\n",
    "df = pd.read_csv('data/raw/data.csv', index_col='Id')\n",
    "df"
   ]
  },
  {
   "cell_type": "markdown",
   "metadata": {},
   "source": [
    "As with most data, displaying raw data is quite a revealing step. I think it is even more important with text data as not only do we need to understand the metadata:\n",
    "- is there any `Nan` values? (`df.describe()` has already told me there is no gap in the data)\n",
    "- any out of place values? (like a 0 meaning no records for example)\n",
    "- etc.\n",
    "\n",
    "But we also need to analyse and understand the actual value of the field. As we can see in the table above, the following columns are available:\n",
    "- `Title` which seems to only contain text data. It appears to be the subject of the post, in English.\n",
    "- `Body` which seems to contain text data but in various \"format/language\". We can se the `<p>` html flag, the `\\r\\n` tag which probably the \"code\" cell formatting.\n",
    "- `Tags` which seems to contain the various tags one can flag a question with.\n",
    "-  `CreationDate` which seems to be the posting date. The Kaggle description mentions editing of the post as a metric for post quality. This might be worth keeping in mind when dealing with the data.\n",
    "- `Y` which seems to be the manually added field, the one with the labels (for supervised classification).\n",
    "\n",
    "### Text cleaning\n",
    "The dataset sems to be quite neat, the only field really needing work is the `Body` one. The date will be parsed as date later on, the tags can easily be extracted (Who said wordclouds? :angel:) and the `Y` probably should be OneHotEncoded for the classification step.\n",
    "\n",
    "In the `Body` column, we can see the `<html>` tag are enclosed in the formatting `\\r\\n` (or when we are lucky the code is placed within `<code>` tags) with the exceptions of the `<p>` tag which delimits the Body field in most cases. We also notice some characters are escaped: `\\'`.\n",
    "\n",
    "Because I am more interested in the human factor - but also because I am not qualified to review 60k snippets of code -, I am going replace the code cells by a tag that won't affect the structure of the text, without destructing the surrounding information. Maybe subitting some code is a sign of quality on SO, who knows?\n",
    "\n",
    "There are a few ways to do this. One of them is to build a cleaning function and use the `.apply(lambda x: cleaning_function(x))` method on the column to clean. It is indicated for more complex cleaning.\n",
    "\n",
    "Another way to clean text is to use the `.replace()` method on pandas' series which is straight forward and allows regex.\n",
    "![Replacements](./img/Replacements.png)"
   ]
  },
  {
   "cell_type": "code",
   "execution_count": 2,
   "metadata": {},
   "outputs": [],
   "source": [
    "from bs4 import BeautifulSoup\n",
    "import re\n",
    "\n",
    "# This functions addresses the \\r\\n blocs and converts them to CODE\n",
    "def regex(text):\n",
    "    pattern = \"r'\\\\t(.*?)\\\\t'\"\n",
    "    text = re.sub(pattern, \" \", text)\n",
    "    pattern = \"\\r\\n(.*?)\\r\\n\"\n",
    "    return re.sub(pattern, \" CODE \", text)\n",
    "\n",
    "# The advantage of using BeautifulSoup is that all the <html> tags are parsed and disappear.\n",
    "def code_block(field):\n",
    "    soup = BeautifulSoup(field)\n",
    "    for f in soup.findAll('code'):\n",
    "        f.replaceWith('CODE')\n",
    "    return (soup.get_text()).replace('\\n',' ')\n",
    "\n",
    "# df['Body'].replace('<br/>\\r\\n','.', inplace=True)\n",
    "# df['Body'].replace('**', ' ', inplace=True)\n",
    "# df['Body'].replace(\"\\'\", \"'\", inplace=True)\n",
    "# df['Body'].replace('<p>', '.' inplace=True)\n",
    "# df['Body'].replace('\\n', ' ', inplace=True)\n",
    "# df['Body'].replace('\\ +', ' ', regex=True, inplace=True)"
   ]
  },
  {
   "cell_type": "code",
   "execution_count": 3,
   "metadata": {},
   "outputs": [],
   "source": [
    "df['Body'] = df['Body'].apply(lambda x: regex(x))"
   ]
  },
  {
   "cell_type": "code",
   "execution_count": 4,
   "metadata": {
    "scrolled": true
   },
   "outputs": [],
   "source": [
    "df['Body'] = df['Body'].apply(lambda x: code_block(x))"
   ]
  },
  {
   "cell_type": "markdown",
   "metadata": {},
   "source": [
    "As we can see, our `Body` field has been sanitized and, although there are repetitions in the `CODE` tag, we have managed to significantly reduce the noise generated by the various code snippets. A few broken tags/white spaces remain but they will be removed when we remove stopwords and words smaller than 3 letters. We will need to be cautious with remove the small words as programming languages such as \"R\" might be important.\n",
    "\n",
    "Finally, another thing worth noting, the text is significantly harder to read by a human being (mainly because our regex replacements did an ok job but it wasn't perfect)."
   ]
  },
  {
   "cell_type": "code",
   "execution_count": 5,
   "metadata": {},
   "outputs": [
    {
     "name": "stdout",
     "output_type": "stream",
     "text": [
      "-----FROM-----\n",
      "I am having 4 different tables like \\r\\nselect * from System \\r\\n \\r\\nselect * from Set \\r\\nselect * from Item \\r\\nselect * from Versions \\r\\n\\r\\nNow for each system Id there will be **n no.of Sets**, and foe **each set** there qill be **n no. of Items** and for **each item** there will be **n no.of Versions**.\\r\\n\\r\\n**each system has  <br/>\\r\\nn no of set <br/>\\r\\neach Set has <br/>\\r\\nn no of Items <br/>\\r\\neach Item has <br/>\\r\\nn no of Versions**\\r\\n\\r\\n\\r\\nSo, Now when i give **SystemId** then i have to retrieve all the records from \\r\\n\\r\\n**Set and Items of each set and Versions of each Items** in single storedprocedure.\n",
      "------TO------\n"
     ]
    },
    {
     "data": {
      "text/plain": [
       "'I am having 4 different tables like  CODE   CODE select * from Item  CODE  CODE  CODE n no of set  CODE n no of Items  CODE n no of Versions** CODE  CODE \\r **Set and Items of each set and Versions of each Items** in single storedprocedure.'"
      ]
     },
     "execution_count": 5,
     "metadata": {},
     "output_type": "execute_result"
    }
   ],
   "source": [
    "print('-----FROM-----')\n",
    "print(r'I am having 4 different tables like \\r\\nselect * from System \\r\\n \\r\\nselect * from Set \\r\\nselect * from Item \\r\\nselect * from Versions \\r\\n\\r\\nNow for each system Id there will be **n no.of Sets**, and foe **each set** there qill be **n no. of Items** and for **each item** there will be **n no.of Versions**.\\r\\n\\r\\n**each system has  <br/>\\r\\nn no of set <br/>\\r\\neach Set has <br/>\\r\\nn no of Items <br/>\\r\\neach Item has <br/>\\r\\nn no of Versions**\\r\\n\\r\\n\\r\\nSo, Now when i give **SystemId** then i have to retrieve all the records from \\r\\n\\r\\n**Set and Items of each set and Versions of each Items** in single storedprocedure.')\n",
    "print('------TO------')\n",
    "df['Body'][34552974]"
   ]
  },
  {
   "cell_type": "code",
   "execution_count": 6,
   "metadata": {},
   "outputs": [],
   "source": [
    "df['Body'].replace(\" +\", \" \", regex= True, inplace= True)\n",
    "df['Body'].replace(r'c\\+\\+|C\\+\\+|cpp','Cpp', regex= True, inplace= True)\n",
    "df['Body'].replace(r'c\\#|C\\#','Csharp', regex= True, inplace= True)\n",
    "df['Body'].replace('R', 'Rrrrr', inplace= True)"
   ]
  },
  {
   "cell_type": "markdown",
   "metadata": {},
   "source": [
    "# Removing stopwords"
   ]
  },
  {
   "cell_type": "code",
   "execution_count": 7,
   "metadata": {},
   "outputs": [],
   "source": [
    "from nltk.corpus import stopwords\n",
    "import string\n",
    "\n",
    "stop_words = list(string.punctuation)\n",
    "stop_words += stopwords.words('english')"
   ]
  },
  {
   "cell_type": "code",
   "execution_count": 8,
   "metadata": {},
   "outputs": [],
   "source": [
    "from nltk import word_tokenize\n",
    "def toklowstop(text):\n",
    "    tokens = word_tokenize(text)\n",
    "    # converts to lower case\n",
    "    tokens = [tok.lower() for tok in tokens if len(tok) >= 3]\n",
    "    # removes the stopwords\n",
    "    words = [word for word in tokens if word not in stop_words]\n",
    "    return words"
   ]
  },
  {
   "cell_type": "code",
   "execution_count": 9,
   "metadata": {
    "scrolled": true
   },
   "outputs": [],
   "source": [
    "df['Body']=df['Body'].apply(lambda x: toklowstop(x))"
   ]
  },
  {
   "cell_type": "code",
   "execution_count": 10,
   "metadata": {},
   "outputs": [
    {
     "data": {
      "text/plain": [
       "['different',\n",
       " 'tables',\n",
       " 'like',\n",
       " 'code',\n",
       " 'code',\n",
       " 'select',\n",
       " 'item',\n",
       " 'code',\n",
       " 'code',\n",
       " 'code',\n",
       " 'set',\n",
       " 'code',\n",
       " 'items',\n",
       " 'code',\n",
       " 'versions',\n",
       " 'code',\n",
       " 'code',\n",
       " 'set',\n",
       " 'items',\n",
       " 'set',\n",
       " 'versions',\n",
       " 'items',\n",
       " 'single',\n",
       " 'storedprocedure']"
      ]
     },
     "execution_count": 10,
     "metadata": {},
     "output_type": "execute_result"
    }
   ],
   "source": [
    "df.Body[34552974]"
   ]
  },
  {
   "cell_type": "code",
   "execution_count": 11,
   "metadata": {},
   "outputs": [],
   "source": [
    "df.to_csv('data/processed/data.csv')"
   ]
  }
 ],
 "metadata": {
  "kernelspec": {
   "display_name": "Python 3.8.3 64-bit",
   "language": "python",
   "name": "python38364bit6d9251475e3c4a3a82c639eb6cfa00a6"
  },
  "language_info": {
   "codemirror_mode": {
    "name": "ipython",
    "version": 3
   },
   "file_extension": ".py",
   "mimetype": "text/x-python",
   "name": "python",
   "nbconvert_exporter": "python",
   "pygments_lexer": "ipython3",
   "version": "3.8.6"
  }
 },
 "nbformat": 4,
 "nbformat_minor": 4
}
